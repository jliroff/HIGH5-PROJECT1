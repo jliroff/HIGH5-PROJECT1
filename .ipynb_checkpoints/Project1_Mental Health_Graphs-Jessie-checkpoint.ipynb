{
 "cells": [
  {
   "cell_type": "code",
   "execution_count": 2,
   "metadata": {},
   "outputs": [],
   "source": [
    "import matplotlib.pyplot as plt\n",
    "import numpy as np\n",
    "import pandas as pd\n",
    "file= \"resources/data_data.csv\"\n",
    "datafile= pd.read_csv(file,encoding=\"utf8\")\n"
   ]
  },
  {
   "cell_type": "code",
   "execution_count": 16,
   "metadata": {},
   "outputs": [
    {
     "data": {
      "text/plain": [
       "Number of employees                                                                                       1173\n",
       "Is your employer a tech company?                                                                          1173\n",
       "Does your medical coverage include treatment of mental health?                                            1173\n",
       "Do you currently have a mental health disorder?                                                           1173\n",
       "Do you know the options for mental health care available under your employer-provided health coverage?    1173\n",
       "Have you ever been diagnosed with a mental health disorder?                                               1173\n",
       "Have you had a mental health disorder in the past?                                                        1173\n",
       "Do you have a family history of mental illness?                                                           1173\n",
       "What is your age?                                                                                         1173\n",
       "What is your gender?                                                                                      1173\n",
       "What country do you work in?                                                                              1173\n",
       "What is your race?                                                                                        1173\n",
       "Is your primary role within your company related to tech/IT?                                              1173\n",
       "Do you believe your productivity is ever affected by a mental health issue?                               1173\n",
       "How well do you think the tech industry supports employees with mental health issues?                     1173\n",
       "Anxiety Disorder (Generalized, Social, Phobia, etc)                                                       1173\n",
       "Mood Disorder (Depression, Bipolar Disorder, etc)                                                         1173\n",
       "Psychotic Disorder (Schizophrenia, Schizoaffective, etc)                                                  1173\n",
       "Eating Disorder (Anorexia, Bulimia, etc)                                                                  1173\n",
       "Attention Deficit Hyperactivity Disorder                                                                  1173\n",
       "Personality Disorder (Borderline, Antisocial, Paranoid, etc)                                              1173\n",
       "Obsessive-Compulsive Disorder                                                                             1173\n",
       "Post traumatic Stress Disorder                                                                            1173\n",
       "Stress Response Syndromes                                                                                 1173\n",
       "Dissociative Disorder                                                                                     1173\n",
       "Substance Use Disorder                                                                                    1173\n",
       "Addictive Disorder                                                                                        1173\n",
       "Other                                                                                                     1173\n",
       "dtype: int64"
      ]
     },
     "execution_count": 16,
     "metadata": {},
     "output_type": "execute_result"
    }
   ],
   "source": [
    "datafile.count()"
   ]
  },
  {
   "cell_type": "code",
   "execution_count": 17,
   "metadata": {},
   "outputs": [
    {
     "data": {
      "text/html": [
       "<div>\n",
       "<style scoped>\n",
       "    .dataframe tbody tr th:only-of-type {\n",
       "        vertical-align: middle;\n",
       "    }\n",
       "\n",
       "    .dataframe tbody tr th {\n",
       "        vertical-align: top;\n",
       "    }\n",
       "\n",
       "    .dataframe thead th {\n",
       "        text-align: right;\n",
       "    }\n",
       "</style>\n",
       "<table border=\"1\" class=\"dataframe\">\n",
       "  <thead>\n",
       "    <tr style=\"text-align: right;\">\n",
       "      <th></th>\n",
       "      <th>Do you currently have a mental health disorder?</th>\n",
       "    </tr>\n",
       "  </thead>\n",
       "  <tbody>\n",
       "    <tr>\n",
       "      <th>Yes</th>\n",
       "      <td>515</td>\n",
       "    </tr>\n",
       "    <tr>\n",
       "      <th>No</th>\n",
       "      <td>334</td>\n",
       "    </tr>\n",
       "    <tr>\n",
       "      <th>Possibly</th>\n",
       "      <td>226</td>\n",
       "    </tr>\n",
       "    <tr>\n",
       "      <th>Don't Know</th>\n",
       "      <td>98</td>\n",
       "    </tr>\n",
       "  </tbody>\n",
       "</table>\n",
       "</div>"
      ],
      "text/plain": [
       "            Do you currently have a mental health disorder?\n",
       "Yes                                                     515\n",
       "No                                                      334\n",
       "Possibly                                                226\n",
       "Don't Know                                               98"
      ]
     },
     "execution_count": 17,
     "metadata": {},
     "output_type": "execute_result"
    }
   ],
   "source": [
    "#mental wellness by sample\n",
    "sdatafile=pd.DataFrame(datafile[\"Do you currently have a mental health disorder?\"].value_counts())\n",
    "sdatafile"
   ]
  },
  {
   "cell_type": "code",
   "execution_count": 18,
   "metadata": {},
   "outputs": [
    {
     "data": {
      "text/html": [
       "<div>\n",
       "<style scoped>\n",
       "    .dataframe tbody tr th:only-of-type {\n",
       "        vertical-align: middle;\n",
       "    }\n",
       "\n",
       "    .dataframe tbody tr th {\n",
       "        vertical-align: top;\n",
       "    }\n",
       "\n",
       "    .dataframe thead th {\n",
       "        text-align: right;\n",
       "    }\n",
       "</style>\n",
       "<table border=\"1\" class=\"dataframe\">\n",
       "  <thead>\n",
       "    <tr style=\"text-align: right;\">\n",
       "      <th></th>\n",
       "      <th>What is your gender?</th>\n",
       "      <th>Do you currently have a mental health disorder?</th>\n",
       "      <th>Disorder Count</th>\n",
       "    </tr>\n",
       "  </thead>\n",
       "  <tbody>\n",
       "    <tr>\n",
       "      <th>0</th>\n",
       "      <td>Female</td>\n",
       "      <td>Yes</td>\n",
       "      <td>200</td>\n",
       "    </tr>\n",
       "    <tr>\n",
       "      <th>1</th>\n",
       "      <td>Female</td>\n",
       "      <td>No</td>\n",
       "      <td>77</td>\n",
       "    </tr>\n",
       "    <tr>\n",
       "      <th>2</th>\n",
       "      <td>Female</td>\n",
       "      <td>Possibly</td>\n",
       "      <td>60</td>\n",
       "    </tr>\n",
       "    <tr>\n",
       "      <th>3</th>\n",
       "      <td>Female</td>\n",
       "      <td>Don't Know</td>\n",
       "      <td>18</td>\n",
       "    </tr>\n",
       "    <tr>\n",
       "      <th>4</th>\n",
       "      <td>Male</td>\n",
       "      <td>Yes</td>\n",
       "      <td>289</td>\n",
       "    </tr>\n",
       "    <tr>\n",
       "      <th>5</th>\n",
       "      <td>Male</td>\n",
       "      <td>No</td>\n",
       "      <td>250</td>\n",
       "    </tr>\n",
       "    <tr>\n",
       "      <th>6</th>\n",
       "      <td>Male</td>\n",
       "      <td>Possibly</td>\n",
       "      <td>157</td>\n",
       "    </tr>\n",
       "    <tr>\n",
       "      <th>7</th>\n",
       "      <td>Male</td>\n",
       "      <td>Don't Know</td>\n",
       "      <td>78</td>\n",
       "    </tr>\n",
       "    <tr>\n",
       "      <th>8</th>\n",
       "      <td>Other</td>\n",
       "      <td>Yes</td>\n",
       "      <td>26</td>\n",
       "    </tr>\n",
       "    <tr>\n",
       "      <th>9</th>\n",
       "      <td>Other</td>\n",
       "      <td>Possibly</td>\n",
       "      <td>9</td>\n",
       "    </tr>\n",
       "  </tbody>\n",
       "</table>\n",
       "</div>"
      ],
      "text/plain": [
       "  What is your gender? Do you currently have a mental health disorder?  \\\n",
       "0               Female                                             Yes   \n",
       "1               Female                                              No   \n",
       "2               Female                                        Possibly   \n",
       "3               Female                                      Don't Know   \n",
       "4                 Male                                             Yes   \n",
       "5                 Male                                              No   \n",
       "6                 Male                                        Possibly   \n",
       "7                 Male                                      Don't Know   \n",
       "8                Other                                             Yes   \n",
       "9                Other                                        Possibly   \n",
       "\n",
       "   Disorder Count  \n",
       "0             200  \n",
       "1              77  \n",
       "2              60  \n",
       "3              18  \n",
       "4             289  \n",
       "5             250  \n",
       "6             157  \n",
       "7              78  \n",
       "8              26  \n",
       "9               9  "
      ]
     },
     "execution_count": 18,
     "metadata": {},
     "output_type": "execute_result"
    }
   ],
   "source": [
    "# mental wellness by gender\n",
    "gdatafile=datafile.groupby([\"What is your gender?\"])\n",
    "gender=pd.DataFrame(gdatafile[\"Do you currently have a mental health disorder?\"].value_counts())\n",
    "gender=gender.rename(columns={\"Do you currently have a mental health disorder?\":\"Disorder Count\"})\n",
    "gender.reset_index(inplace=True)\n",
    "gender.head(10)"
   ]
  },
  {
   "cell_type": "code",
   "execution_count": 19,
   "metadata": {},
   "outputs": [
    {
     "data": {
      "text/html": [
       "<div>\n",
       "<style scoped>\n",
       "    .dataframe tbody tr th:only-of-type {\n",
       "        vertical-align: middle;\n",
       "    }\n",
       "\n",
       "    .dataframe tbody tr th {\n",
       "        vertical-align: top;\n",
       "    }\n",
       "\n",
       "    .dataframe thead th {\n",
       "        text-align: right;\n",
       "    }\n",
       "</style>\n",
       "<table border=\"1\" class=\"dataframe\">\n",
       "  <thead>\n",
       "    <tr style=\"text-align: right;\">\n",
       "      <th></th>\n",
       "      <th>What is your race?</th>\n",
       "      <th>Do you currently have a mental health disorder?</th>\n",
       "      <th>Disorder Count</th>\n",
       "    </tr>\n",
       "  </thead>\n",
       "  <tbody>\n",
       "    <tr>\n",
       "      <th>0</th>\n",
       "      <td>American Indian or Alaska Native</td>\n",
       "      <td>No</td>\n",
       "      <td>1</td>\n",
       "    </tr>\n",
       "    <tr>\n",
       "      <th>1</th>\n",
       "      <td>Asian</td>\n",
       "      <td>No</td>\n",
       "      <td>10</td>\n",
       "    </tr>\n",
       "    <tr>\n",
       "      <th>2</th>\n",
       "      <td>Asian</td>\n",
       "      <td>Yes</td>\n",
       "      <td>9</td>\n",
       "    </tr>\n",
       "    <tr>\n",
       "      <th>3</th>\n",
       "      <td>Asian</td>\n",
       "      <td>Possibly</td>\n",
       "      <td>3</td>\n",
       "    </tr>\n",
       "    <tr>\n",
       "      <th>4</th>\n",
       "      <td>Black or African American</td>\n",
       "      <td>Yes</td>\n",
       "      <td>7</td>\n",
       "    </tr>\n",
       "  </tbody>\n",
       "</table>\n",
       "</div>"
      ],
      "text/plain": [
       "                 What is your race?  \\\n",
       "0  American Indian or Alaska Native   \n",
       "1                             Asian   \n",
       "2                             Asian   \n",
       "3                             Asian   \n",
       "4         Black or African American   \n",
       "\n",
       "  Do you currently have a mental health disorder?  Disorder Count  \n",
       "0                                              No               1  \n",
       "1                                              No              10  \n",
       "2                                             Yes               9  \n",
       "3                                        Possibly               3  \n",
       "4                                             Yes               7  "
      ]
     },
     "execution_count": 19,
     "metadata": {},
     "output_type": "execute_result"
    }
   ],
   "source": [
    "# mental wellness by race\n",
    "rdatafile=datafile.groupby(\"What is your race?\")\n",
    "race=pd.DataFrame(rdatafile[\"Do you currently have a mental health disorder?\"].value_counts())\n",
    "race=race.rename(columns={\"Do you currently have a mental health disorder?\":\"Disorder Count\"})\n",
    "race.reset_index(inplace=True)\n",
    "race.head()"
   ]
  },
  {
   "cell_type": "code",
   "execution_count": 20,
   "metadata": {},
   "outputs": [
    {
     "data": {
      "text/html": [
       "<div>\n",
       "<style scoped>\n",
       "    .dataframe tbody tr th:only-of-type {\n",
       "        vertical-align: middle;\n",
       "    }\n",
       "\n",
       "    .dataframe tbody tr th {\n",
       "        vertical-align: top;\n",
       "    }\n",
       "\n",
       "    .dataframe thead th {\n",
       "        text-align: right;\n",
       "    }\n",
       "</style>\n",
       "<table border=\"1\" class=\"dataframe\">\n",
       "  <thead>\n",
       "    <tr style=\"text-align: right;\">\n",
       "      <th></th>\n",
       "      <th>Agegroup</th>\n",
       "      <th>Do you currently have a mental health disorder?</th>\n",
       "      <th>Disorder Count</th>\n",
       "    </tr>\n",
       "  </thead>\n",
       "  <tbody>\n",
       "    <tr>\n",
       "      <th>0</th>\n",
       "      <td>(0, 20]</td>\n",
       "      <td>No</td>\n",
       "      <td>1</td>\n",
       "    </tr>\n",
       "    <tr>\n",
       "      <th>1</th>\n",
       "      <td>(0, 20]</td>\n",
       "      <td>Possibly</td>\n",
       "      <td>5</td>\n",
       "    </tr>\n",
       "    <tr>\n",
       "      <th>2</th>\n",
       "      <td>(0, 20]</td>\n",
       "      <td>Yes</td>\n",
       "      <td>3</td>\n",
       "    </tr>\n",
       "    <tr>\n",
       "      <th>3</th>\n",
       "      <td>(20, 30]</td>\n",
       "      <td>Don't Know</td>\n",
       "      <td>31</td>\n",
       "    </tr>\n",
       "    <tr>\n",
       "      <th>4</th>\n",
       "      <td>(20, 30]</td>\n",
       "      <td>No</td>\n",
       "      <td>92</td>\n",
       "    </tr>\n",
       "  </tbody>\n",
       "</table>\n",
       "</div>"
      ],
      "text/plain": [
       "   Agegroup Do you currently have a mental health disorder?  Disorder Count\n",
       "0   (0, 20]                                              No               1\n",
       "1   (0, 20]                                        Possibly               5\n",
       "2   (0, 20]                                             Yes               3\n",
       "3  (20, 30]                                      Don't Know              31\n",
       "4  (20, 30]                                              No              92"
      ]
     },
     "execution_count": 20,
     "metadata": {},
     "output_type": "execute_result"
    }
   ],
   "source": [
    "# mental wellness by age\n",
    "adatafile=datafile.groupby(\"What is your age?\")\n",
    "age=pd.DataFrame(adatafile[\"Do you currently have a mental health disorder?\"].value_counts())\n",
    "age=age.rename(columns={\"Do you currently have a mental health disorder?\":\"Disorder Count\"})\n",
    "age.reset_index(inplace=True)\n",
    "age[\"What is your age?\"]=age[\"What is your age?\"].replace(to_replace=\"No Answer\",value=-1)\n",
    "bin=[0,20,30,40,50,60,70,80]\n",
    "age[\"Agegroup\"]=pd.cut(age[\"What is your age?\"].astype(float),bin)\n",
    "age=age.groupby([\"Agegroup\",\"Do you currently have a mental health disorder?\"])\n",
    "age=pd.DataFrame(age[\"Disorder Count\"].sum())\n",
    "age.reset_index(inplace=True)\n",
    "age.head()"
   ]
  },
  {
   "cell_type": "code",
   "execution_count": 21,
   "metadata": {},
   "outputs": [
    {
     "data": {
      "text/html": [
       "<div>\n",
       "<style scoped>\n",
       "    .dataframe tbody tr th:only-of-type {\n",
       "        vertical-align: middle;\n",
       "    }\n",
       "\n",
       "    .dataframe tbody tr th {\n",
       "        vertical-align: top;\n",
       "    }\n",
       "\n",
       "    .dataframe thead th {\n",
       "        text-align: right;\n",
       "    }\n",
       "</style>\n",
       "<table border=\"1\" class=\"dataframe\">\n",
       "  <thead>\n",
       "    <tr style=\"text-align: right;\">\n",
       "      <th></th>\n",
       "      <th>Disordercounts</th>\n",
       "      <th>Anxiety Disorder (Generalized, Social, Phobia, etc)</th>\n",
       "      <th>Mood Disorder (Depression, Bipolar Disorder, etc)</th>\n",
       "      <th>Psychotic Disorder (Schizophrenia, Schizoaffective, etc)</th>\n",
       "      <th>Eating Disorder (Anorexia, Bulimia, etc)</th>\n",
       "      <th>Attention Deficit Hyperactivity Disorder</th>\n",
       "      <th>Personality Disorder (Borderline, Antisocial, Paranoid, etc)</th>\n",
       "      <th>Obsessive-Compulsive Disorder</th>\n",
       "      <th>Post traumatic Stress Disorder</th>\n",
       "      <th>Stress Response Syndromes</th>\n",
       "      <th>Dissociative Disorder</th>\n",
       "      <th>Substance Use Disorder</th>\n",
       "      <th>Addictive Disorder</th>\n",
       "      <th>Other</th>\n",
       "    </tr>\n",
       "  </thead>\n",
       "  <tbody>\n",
       "    <tr>\n",
       "      <th>0</th>\n",
       "      <td>No</td>\n",
       "      <td>1018</td>\n",
       "      <td>660</td>\n",
       "      <td>1160</td>\n",
       "      <td>1136</td>\n",
       "      <td>1003</td>\n",
       "      <td>1128</td>\n",
       "      <td>1105</td>\n",
       "      <td>1068</td>\n",
       "      <td>1134</td>\n",
       "      <td>1159</td>\n",
       "      <td>1136</td>\n",
       "      <td>1142</td>\n",
       "      <td>1149</td>\n",
       "    </tr>\n",
       "    <tr>\n",
       "      <th>1</th>\n",
       "      <td>Yes</td>\n",
       "      <td>155</td>\n",
       "      <td>513</td>\n",
       "      <td>13</td>\n",
       "      <td>37</td>\n",
       "      <td>170</td>\n",
       "      <td>45</td>\n",
       "      <td>68</td>\n",
       "      <td>105</td>\n",
       "      <td>39</td>\n",
       "      <td>14</td>\n",
       "      <td>37</td>\n",
       "      <td>31</td>\n",
       "      <td>24</td>\n",
       "    </tr>\n",
       "  </tbody>\n",
       "</table>\n",
       "</div>"
      ],
      "text/plain": [
       "  Disordercounts  Anxiety Disorder (Generalized, Social, Phobia, etc)  \\\n",
       "0             No                                               1018     \n",
       "1            Yes                                                155     \n",
       "\n",
       "   Mood Disorder (Depression, Bipolar Disorder, etc)  \\\n",
       "0                                                660   \n",
       "1                                                513   \n",
       "\n",
       "   Psychotic Disorder (Schizophrenia, Schizoaffective, etc)  \\\n",
       "0                                               1160          \n",
       "1                                                 13          \n",
       "\n",
       "   Eating Disorder (Anorexia, Bulimia, etc)  \\\n",
       "0                                      1136   \n",
       "1                                        37   \n",
       "\n",
       "   Attention Deficit Hyperactivity Disorder  \\\n",
       "0                                      1003   \n",
       "1                                       170   \n",
       "\n",
       "   Personality Disorder (Borderline, Antisocial, Paranoid, etc)  \\\n",
       "0                                               1128              \n",
       "1                                                 45              \n",
       "\n",
       "   Obsessive-Compulsive Disorder  Post traumatic Stress Disorder  \\\n",
       "0                           1105                            1068   \n",
       "1                             68                             105   \n",
       "\n",
       "   Stress Response Syndromes  Dissociative Disorder  Substance Use Disorder  \\\n",
       "0                       1134                   1159                    1136   \n",
       "1                         39                     14                      37   \n",
       "\n",
       "   Addictive Disorder  Other  \n",
       "0                1142   1149  \n",
       "1                  31     24  "
      ]
     },
     "execution_count": 21,
     "metadata": {},
     "output_type": "execute_result"
    }
   ],
   "source": [
    "# Most prevalent disorders\n",
    "headers=list(datafile.columns)\n",
    "firstdisorderindex=headers.index(\"Anxiety Disorder (Generalized, Social, Phobia, etc)\")\n",
    "Disorders=headers[firstdisorderindex:]\n",
    "Disorderfile=pd.DataFrame({\"Disordercounts\":[\"No\",\"Yes\"]})\n",
    "Disorderfile.set_index(\"Disordercounts\")\n",
    "for disorder in Disorders:\n",
    "    counts=list(datafile[disorder].value_counts())\n",
    "    Disorderfile[disorder]=counts\n",
    "Disorderfile"
   ]
  },
  {
   "cell_type": "code",
   "execution_count": 22,
   "metadata": {},
   "outputs": [
    {
     "data": {
      "text/plain": [
       "Do you currently have a mental health disorder?  Number of employees\n",
       "Don't Know                                       More than 1000          23\n",
       "                                                 100-500                 22\n",
       "                                                 26-100                  20\n",
       "                                                 No Answer               18\n",
       "                                                 25-Jun                  10\n",
       "                                                 500-1000                 5\n",
       "No                                               26-100                  76\n",
       "                                                 100-500                 74\n",
       "                                                 More than 1000          55\n",
       "                                                 25-Jun                  53\n",
       "                                                 No Answer               50\n",
       "                                                 500-1000                16\n",
       "                                                 5-Jan                   10\n",
       "Possibly                                         100-500                 56\n",
       "                                                 More than 1000          47\n",
       "                                                 26-100                  36\n",
       "                                                 25-Jun                  34\n",
       "                                                 No Answer               28\n",
       "                                                 500-1000                17\n",
       "                                                 5-Jan                    8\n",
       "Yes                                              More than 1000         138\n",
       "                                                 100-500                132\n",
       "                                                 No Answer               73\n",
       "                                                 26-100                  66\n",
       "                                                 25-Jun                  58\n",
       "                                                 500-1000                41\n",
       "                                                 5-Jan                    7\n",
       "Name: Number of employees, dtype: int64"
      ]
     },
     "execution_count": 22,
     "metadata": {},
     "output_type": "execute_result"
    }
   ],
   "source": [
    "# disorder cause examination - Number of employees\n",
    "nemp=datafile.groupby(\"Do you currently have a mental health disorder?\")\n",
    "nemp=nemp[\"Number of employees\"].value_counts()\n",
    "nemp"
   ]
  },
  {
   "cell_type": "code",
   "execution_count": 55,
   "metadata": {},
   "outputs": [
    {
     "data": {
      "text/plain": [
       "Do you currently have a mental health disorder?  Does your medical coverage include treatment of mental health?\n",
       "Don't Know                                       No                                                                 88\n",
       "                                                 yes                                                                10\n",
       "No                                               No                                                                299\n",
       "                                                 yes                                                                35\n",
       "Possibly                                         No                                                                204\n",
       "                                                 yes                                                                22\n",
       "Yes                                              No                                                                462\n",
       "                                                 yes                                                                53\n",
       "Name: Does your medical coverage include treatment of mental health?, dtype: int64"
      ]
     },
     "execution_count": 55,
     "metadata": {},
     "output_type": "execute_result"
    }
   ],
   "source": [
    "# disorder cause examination - Does your medical coverage include treatment of mental health?\n",
    "cov=datafile.groupby(\"Do you currently have a mental health disorder?\")\n",
    "cov=cov[\"Does your medical coverage include treatment of mental health?\"].value_counts()\n",
    "cov"
   ]
  },
  {
   "cell_type": "code",
   "execution_count": 9,
   "metadata": {},
   "outputs": [
    {
     "data": {
      "image/png": "[encoded data removed]",
      "text/plain": [
       "<Figure size 648x576 with 1 Axes>"
      ]
     },
     "metadata": {},
     "output_type": "display_data"
    }
   ],
   "source": [
    "disorder = ['Dont Know','No', 'Possibly', 'Yes']\n",
    "medical_coverage = ['No', 'Yes']\n",
    "no_coverage = [88, 299, 204, 462]\n",
    "yes_coverage = [10, 35, 22, 53]\n",
    "Z = np.arange(len(disorder))\n",
    "no_bar_width = -0.0\n",
    "yes_bar_width = +0.0\n",
    "\n",
    "coveragewdisorder = [462,53]\n",
    "explode=(0,0.1)\n",
    "labels= ['No', 'Yes']\n",
    "colors1 = ['pink','red']\n",
    "\n",
    "fig1, ax = plt.subplots(figsize=(9, 8))\n",
    "fig1.subplots_adjust(0.3,0,1,1)\n",
    "\n",
    "plt.pie(coveragewdisorder, explode=explode, colors=colors1,\n",
    "        autopct=\"%1.1f%%\", shadow=True, startangle=140)\n",
    "\n",
    "plt.axis(\"equal\")\n",
    "\n",
    "plt.title('Medical Coverage with a Mental Health Disorder', fontsize = 16)\n",
    "plt.legend([\"No - 89.7%\",\"Yes - 10.3%\"], title = 'Do you have Medical Coverage?', frameon = True, edgecolor = 'black', loc='lower right')\n",
    "\n",
    "\n",
    "plt.savefig(\"outputs/medical_coverage_with_a_mental_health_disorder.png\")\n"
   ]
  },
  {
   "cell_type": "code",
   "execution_count": 8,
   "metadata": {},
   "outputs": [
    {
     "data": {
      "image/png": "[encoded data removed]",
      "text/plain": [
       "<Figure size 648x576 with 1 Axes>"
      ]
     },
     "metadata": {},
     "output_type": "display_data"
    }
   ],
   "source": [
    "coveragepossdisorder = [204,22]\n",
    "colors2 = ['lightblue','blue']\n",
    "\n",
    "fig2, ax = plt.subplots(figsize=(9, 8))\n",
    "fig2.subplots_adjust(0.3,0,1,1)\n",
    "\n",
    "plt.pie(coveragepossdisorder, explode=explode, colors=colors2,\n",
    "        autopct=\"%1.1f%%\", shadow=True, startangle=140)\n",
    "\n",
    "plt.axis(\"equal\")\n",
    "\n",
    "plt.title('Medical Coverage with a Possible Mental Health Disorder', fontsize = 16)\n",
    "plt.legend([\"No - 90.3%\", \"Yes - 9.7%\"], title = 'Do you have Medical Coverage?', frameon = True, edgecolor = 'black', loc='lower right')\n",
    "\n",
    "\n",
    "plt.savefig(\"outputs/medical_coverage_possibly_with_a_mental_health_disorder.png\")\n",
    "\n"
   ]
  },
  {
   "cell_type": "code",
   "execution_count": 10,
   "metadata": {},
   "outputs": [
    {
     "data": {
      "image/png": "[encoded data removed]",
      "text/plain": [
       "<Figure size 648x576 with 1 Axes>"
      ]
     },
     "metadata": {},
     "output_type": "display_data"
    }
   ],
   "source": [
    "coveragenodisorder = [299,35]\n",
    "colors3 = ['lightgreen','g']\n",
    "\n",
    "fig2, ax = plt.subplots(figsize=(9, 8))\n",
    "fig2.subplots_adjust(0.3,0,1,1)\n",
    "\n",
    "plt.pie(coveragenodisorder, explode=explode, colors=colors3,\n",
    "        autopct=\"%1.1f%%\", shadow=True, startangle=140)\n",
    "\n",
    "plt.axis(\"equal\")\n",
    "\n",
    "plt.title('Medical Coverage without a Mental Health Disorder', fontsize = 16)\n",
    "plt.legend([\"No - 89.5%\", \"Yes - 10.5%\"], title = 'Do you have Medical Coverage?', frameon = True, edgecolor = 'black', loc='lower right')\n",
    "\n",
    "\n",
    "plt.savefig(\"outputs/medical_coverage_without_a_mental_health_disorder.png\")\n",
    "\n"
   ]
  },
  {
   "cell_type": "code",
   "execution_count": 27,
   "metadata": {},
   "outputs": [
    {
     "data": {
      "text/plain": [
       "Do you currently have a mental health disorder?  Do you know the options for mental health care available under your employer-provided health coverage?\n",
       "Don't Know                                       No                                                                                                         78\n",
       "                                                 Yes                                                                                                        20\n",
       "No                                               No                                                                                                        240\n",
       "                                                 Yes                                                                                                        94\n",
       "Possibly                                         No                                                                                                        161\n",
       "                                                 Yes                                                                                                        65\n",
       "Yes                                              No                                                                                                        262\n",
       "                                                 Yes                                                                                                       253\n",
       "Name: Do you know the options for mental health care available under your employer-provided health coverage?, dtype: int64"
      ]
     },
     "execution_count": 27,
     "metadata": {},
     "output_type": "execute_result"
    }
   ],
   "source": [
    "# disorder cause examination - Do you know the options for mental health care available under your employer-provided health coverage?\n",
    "opt=datafile.groupby(\"Do you currently have a mental health disorder?\")\n",
    "opt=opt[\"Do you know the options for mental health care available under your employer-provided health coverage?\"].value_counts()\n",
    "opt\n"
   ]
  },
  {
   "cell_type": "code",
   "execution_count": 16,
   "metadata": {},
   "outputs": [
    {
     "data": {
      "text/plain": [
       "Do you currently have a mental health disorder?  Have you ever been diagnosed with a mental health disorder?\n",
       "Don't Know                                       No                                                              98\n",
       "No                                               No                                                             334\n",
       "Possibly                                         No                                                             226\n",
       "Yes                                              Yes                                                            503\n",
       "                                                 No                                                              12\n",
       "Name: Have you ever been diagnosed with a mental health disorder?, dtype: int64"
      ]
     },
     "execution_count": 16,
     "metadata": {},
     "output_type": "execute_result"
    }
   ],
   "source": [
    "# disorder cause examination - Have you ever been diagnosed with a mental health disorder?\n",
    "his=datafile.groupby(\"Do you currently have a mental health disorder?\")\n",
    "his=his[\"Have you ever been diagnosed with a mental health disorder?\"].value_counts()\n",
    "his"
   ]
  },
  {
   "cell_type": "code",
   "execution_count": 17,
   "metadata": {},
   "outputs": [
    {
     "data": {
      "text/plain": [
       "Do you currently have a mental health disorder?  Have you had a mental health disorder in the past?\n",
       "Don't Know                                       No                                                     44\n",
       "                                                 Don't Know                                             36\n",
       "                                                 Possibly                                               13\n",
       "                                                 Yes                                                     5\n",
       "No                                               No                                                    236\n",
       "                                                 Yes                                                    50\n",
       "                                                 Possibly                                               41\n",
       "                                                 Don't Know                                              7\n",
       "Possibly                                         Possibly                                               95\n",
       "                                                 Yes                                                    65\n",
       "                                                 No                                                     35\n",
       "                                                 Don't Know                                             31\n",
       "Yes                                              Yes                                                   415\n",
       "                                                 Possibly                                               54\n",
       "                                                 No                                                     35\n",
       "                                                 Don't Know                                             11\n",
       "Name: Have you had a mental health disorder in the past?, dtype: int64"
      ]
     },
     "execution_count": 17,
     "metadata": {},
     "output_type": "execute_result"
    }
   ],
   "source": [
    "# disorder cause examination - Have you had a mental health disorder in the past?\n",
    "past=datafile.groupby(\"Do you currently have a mental health disorder?\")\n",
    "past=past[\"Have you had a mental health disorder in the past?\"].value_counts()\n",
    "past"
   ]
  },
  {
   "cell_type": "code",
   "execution_count": 159,
   "metadata": {},
   "outputs": [
    {
     "data": {
      "text/plain": [
       "Do you currently have a mental health disorder?  Do you have a family history of mental illness?\n",
       "Don't Know                                       No                                                  39\n",
       "                                                 I don't know                                        31\n",
       "                                                 Yes                                                 28\n",
       "No                                               No                                                 190\n",
       "                                                 Yes                                                 96\n",
       "                                                 I don't know                                        48\n",
       "Possibly                                         I don't know                                        88\n",
       "                                                 Yes                                                 86\n",
       "                                                 No                                                  52\n",
       "Yes                                              Yes                                                337\n",
       "                                                 I don't know                                       121\n",
       "                                                 No                                                  57\n",
       "Name: Do you have a family history of mental illness?, dtype: int64"
      ]
     },
     "execution_count": 159,
     "metadata": {},
     "output_type": "execute_result"
    }
   ],
   "source": [
    "# disorder cause examination - Do you have a family history of mental illness?\n",
    "fam=datafile.groupby(\"Do you currently have a mental health disorder?\")\n",
    "fam=fam[\"Do you have a family history of mental illness?\"].value_counts()\n",
    "fam"
   ]
  },
  {
   "cell_type": "code",
   "execution_count": 6,
   "metadata": {},
   "outputs": [
    {
     "data": {
      "image/png": "[encoded data removed]",
      "text/plain": [
       "<Figure size 720x720 with 1 Axes>"
      ]
     },
     "metadata": {
      "needs_background": "light"
     },
     "output_type": "display_data"
    }
   ],
   "source": [
    "productivitydata = datafile[['Do you currently have a mental health disorder?','Do you believe your productivity is ever affected by a mental health issue?']]\n",
    "prod_disorder = productivitydata.loc[productivitydata['Do you currently have a mental health disorder?'] == 'Yes',:]\n",
    "\n",
    "\n",
    "df = pd.DataFrame(prod_disorder['Do you believe your productivity is ever affected by a mental health issue?'].value_counts())\n",
    "\n",
    "fig2, ax = plt.subplots(figsize=(10, 10))\n",
    "\n",
    "xaxis = df.index\n",
    "data = df['Do you believe your productivity is ever affected by a mental health issue?']\n",
    "\n",
    "ax = plt.bar(xaxis, data, 0.5, color = 'orange')\n",
    "\n",
    "# Add counts above the two bar graphs\n",
    "for rect in ax:\n",
    "    height = rect.get_height()\n",
    "    plt.text(rect.get_x() + rect.get_width()/2.0, height, '%d' % int(height), ha='center', va='bottom')\n",
    "    \n",
    "plt.title('Productivity in the Worklace', fontsize = 12)\n",
    "plt.xlabel('Do you believe your productivity is ever affected by a mental health issue?')\n",
    "plt.ylabel('Number of Survery Participants')\n",
    "\n",
    "plt.savefig(\"outputs/productivity.png\")\n"
   ]
  }
 ],
 "metadata": {
  "kernelspec": {
   "display_name": "Python 3",
   "language": "python",
   "name": "python3"
  },
  "language_info": {
   "codemirror_mode": {
    "name": "ipython",
    "version": 3
   },
   "file_extension": ".py",
   "mimetype": "text/x-python",
   "name": "python",
   "nbconvert_exporter": "python",
   "pygments_lexer": "ipython3",
   "version": "3.7.0"
  }
 },
 "nbformat": 4,
 "nbformat_minor": 2
}
